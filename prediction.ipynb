{
 "cells": [
  {
   "cell_type": "code",
   "execution_count": 2,
   "id": "f3831b8d",
   "metadata": {},
   "outputs": [],
   "source": [
    "import pickle \n",
    "with open('LGBMRegressor_model.pkl','rb') as f:\n",
    "    reg_model = pickle.load(f)\n",
    "\n",
    "with open('Scaler.pkl','rb') as f:\n",
    "    scaler = pickle.load(f)"
   ]
  },
  {
   "cell_type": "code",
   "execution_count": 6,
   "id": "621dcee2",
   "metadata": {},
   "outputs": [
    {
     "name": "stdout",
     "output_type": "stream",
     "text": [
      "41.19\n"
     ]
    }
   ],
   "source": [
    "import pandas as pd\n",
    "import numpy as np\n",
    "\n",
    "emp_map = {'Employed':0, 'Self-Employed':1, 'Unemployed':2}\n",
    "edu_map = {'High School':0,'Associate':1,'Bachelor':2,'Master':3,'Doctorate':4}\n",
    "features_to_log1p = ['LoanAmount','MonthlyIncome','NetWorth']\n",
    "num_cols_to_standardize = [\n",
    "    'Age', 'CreditScore', 'LoanAmount', 'LoanDuration',\n",
    "    'CreditCardUtilizationRate', 'LengthOfCreditHistory',\n",
    "    'MonthlyIncome', 'NetWorth', 'InterestRate'\n",
    "]\n",
    "input_data={\n",
    "'Age' : 28,\n",
    "'CreditScore' : 900,\n",
    "'EmploymentStatus' : 'Employed',\n",
    "'EducationLevel': 'Bachelor',\n",
    "'LoanAmount' : 100000,\n",
    "'LoanDuration' : 12,\n",
    "'CreditCardUtilizationRate' : 8,\n",
    "'BankruptcyHistory' : 1,\n",
    "'PreviousLoanDefaults' : 0,\n",
    "'LengthOfCreditHistory' : 5,\n",
    "'MonthlyIncome' : 20000,\n",
    "'NetWorth' : 300000,\n",
    "'InterestRate' : 5}\n",
    "    \n",
    "input_df = pd.DataFrame([input_data])\n",
    "    # Encoding\n",
    "input_df['EmploymentStatus'] = input_df['EmploymentStatus'].map(emp_map)\n",
    "input_df['EducationLevel'] = input_df['EducationLevel'].map(edu_map)\n",
    "\n",
    "#log1p transform\n",
    "input_df[features_to_log1p] = input_df[features_to_log1p].apply(np.log1p)\n",
    "\n",
    "#Standardize\n",
    "input_df[num_cols_to_standardize] = scaler.transform(input_df[num_cols_to_standardize])\n",
    "\n",
    "#Predict\n",
    "risk_score = reg_model.predict(input_df)[0]\n",
    "risk_score = round(risk_score,2)\n",
    "print(risk_score)"
   ]
  }
 ],
 "metadata": {
  "kernelspec": {
   "display_name": "base",
   "language": "python",
   "name": "python3"
  },
  "language_info": {
   "codemirror_mode": {
    "name": "ipython",
    "version": 3
   },
   "file_extension": ".py",
   "mimetype": "text/x-python",
   "name": "python",
   "nbconvert_exporter": "python",
   "pygments_lexer": "ipython3",
   "version": "3.9.13"
  }
 },
 "nbformat": 4,
 "nbformat_minor": 5
}
